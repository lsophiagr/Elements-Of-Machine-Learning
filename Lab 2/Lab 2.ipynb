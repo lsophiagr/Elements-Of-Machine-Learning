{
 "cells": [
  {
   "cell_type": "markdown",
   "metadata": {},
   "source": [
    "# LAB 2 "
   ]
  },
  {
   "cell_type": "code",
   "execution_count": null,
   "metadata": {},
   "outputs": [],
   "source": [
    "#Sophia Gamarro: 20170356"
   ]
  },
  {
   "cell_type": "code",
   "execution_count": 1,
   "metadata": {},
   "outputs": [],
   "source": [
    "import numpy as np\n"
   ]
  },
  {
   "cell_type": "code",
   "execution_count": null,
   "metadata": {},
   "outputs": [],
   "source": [
    "##PROBLEMA 1"
   ]
  },
  {
   "cell_type": "code",
   "execution_count": 3,
   "metadata": {},
   "outputs": [
    {
     "name": "stdout",
     "output_type": "stream",
     "text": [
      "La matriz \n",
      "[[1 1 0 0 0 0 1]\n",
      " [0 1 1 0 0 1 0]\n",
      " [0 0 1 1 0 0 0]\n",
      " [0 0 0 1 1 0 1]\n",
      " [1 0 0 0 0 1 1]\n",
      " [0 0 0 0 1 1 1]\n",
      " [1 1 1 0 0 0 1]]\n",
      "reflexiva: False\n",
      "simétrica: False \n",
      "transitiva: False\n",
      "La matriz \n",
      "[[1 1 0 0 0 1 1]\n",
      " [1 1 1 0 1 0 0]\n",
      " [0 1 1 1 1 0 0]\n",
      " [0 0 1 1 0 0 1]\n",
      " [0 1 1 0 1 1 1]\n",
      " [1 0 0 0 1 1 1]\n",
      " [1 0 0 1 1 1 1]]\n",
      "reflexiva: True\n",
      "simétrica: True \n",
      "transitiva: False\n",
      "La matriz \n",
      "[[1 1 0 0 0 0 0]\n",
      " [1 1 0 0 0 0 0]\n",
      " [0 0 1 1 0 0 0]\n",
      " [0 0 1 1 0 0 0]\n",
      " [0 0 0 0 1 1 1]\n",
      " [0 0 0 0 1 1 1]\n",
      " [0 0 0 0 1 1 1]]\n",
      "reflexiva: True\n",
      "simétrica: True \n",
      "transitiva: True\n"
     ]
    }
   ],
   "source": [
    "M = np.array([\n",
    "    [1, 1, 0, 0, 0, 0, 1],\n",
    "    [0, 1, 1, 0, 0, 1, 0],\n",
    "    [0, 0, 1, 1, 0, 0, 0],\n",
    "    [0, 0, 0, 1, 1, 0, 1],\n",
    "    [1, 0, 0, 0, 0, 1, 1],\n",
    "    [0, 0, 0, 0, 1, 1, 1],\n",
    "    [1, 1, 1, 0, 0, 0, 1]\n",
    "])\n",
    "\n",
    "M1 = np.array([\n",
    "    [1, 1, 0, 0, 0, 1, 1],\n",
    "    [1, 1, 1, 0, 1, 0, 0],\n",
    "    [0, 1, 1, 1, 1, 0, 0],\n",
    "    [0, 0, 1, 1, 0, 0, 1],\n",
    "    [0, 1, 1, 0, 1, 1, 1],\n",
    "    [1, 0, 0, 0, 1, 1, 1],\n",
    "    [1, 0, 0, 1, 1, 1, 1]\n",
    "])\n",
    "\n",
    "M2 = np.array([\n",
    "    [1, 1, 0, 0, 0, 0, 0],\n",
    "    [1, 1, 0, 0, 0, 0, 0],\n",
    "    [0, 0, 1, 1, 0, 0, 0],\n",
    "    [0, 0, 1, 1, 0, 0, 0],\n",
    "    [0, 0, 0, 0, 1, 1, 1],\n",
    "    [0, 0, 0, 0, 1, 1, 1],\n",
    "    [0, 0, 0, 0, 1, 1, 1],\n",
    "])\n",
    "\n",
    "relacion = lambda mat : print(f'La matriz \\n{mat}'\n",
    "                           f'\\nreflexiva: {np.all(np.diagonal(mat))}'\n",
    "                           f'\\nsimétrica: {np.allclose(mat, mat.T)} '\n",
    "                           f'\\ntransitiva: {np.allclose(mat, np.where(mat@mat>1, 1, mat@mat))}')\n",
    "\n",
    "relacion(M)\n",
    "relacion(M1)\n",
    "relacion(M2)"
   ]
  },
  {
   "cell_type": "code",
   "execution_count": null,
   "metadata": {},
   "outputs": [],
   "source": [
    "#PROBLEMA 2"
   ]
  },
  {
   "cell_type": "code",
   "execution_count": 4,
   "metadata": {},
   "outputs": [
    {
     "name": "stdout",
     "output_type": "stream",
     "text": [
      "[[5 6]\n",
      " [7 8]]\n",
      "[[-7 -6 -5]\n",
      " [-4 -3 -2]]\n",
      "[[ 4  7]\n",
      " [10 13]]\n",
      "[[1. 0.]\n",
      " [0. 1.]]\n",
      "[[0. 0. 0.]\n",
      " [0. 0. 0.]]\n",
      "[[ 5.  6.  1.  0.  0.  0.  0.]\n",
      " [ 7.  8.  0.  1.  0.  0.  0.]\n",
      " [ 1.  0.  4.  7. -7. -6. -5.]\n",
      " [ 0.  1. 10. 13. -4. -3. -2.]]\n"
     ]
    }
   ],
   "source": [
    "A = np.arange(5, 9).reshape(2, 2)\n",
    "print(A)\n",
    "\n",
    "B = np.arange(-7, -1).reshape(2, 3)\n",
    "print(B)\n",
    "\n",
    "C = np.arange(4, 14, 3).reshape(2, 2)\n",
    "print(C)\n",
    "\n",
    "D = np.eye(2)\n",
    "print(D)\n",
    "\n",
    "E = np.zeros(6).reshape(2, 3)\n",
    "print(E)\n",
    "\n",
    "H = np.vstack((np.hstack((A, np.hstack((np.eye(2), np.zeros(6).reshape(2, 3))))), np.hstack((np.eye(2), np.hstack((C, B))))))\n",
    "print(H)"
   ]
  },
  {
   "cell_type": "code",
   "execution_count": null,
   "metadata": {},
   "outputs": [],
   "source": [
    "#PROBLEMA 3"
   ]
  },
  {
   "cell_type": "code",
   "execution_count": 9,
   "metadata": {},
   "outputs": [
    {
     "name": "stdout",
     "output_type": "stream",
     "text": [
      "[[ 5 11 17 23]\n",
      " [ 4 10 16 22]\n",
      " [ 3  9 15 21]\n",
      " [ 2  8 14 20]\n",
      " [ 1  7 13 19]\n",
      " [ 0  6 12 18]]\n",
      "[[23 22 21 20 19 18]\n",
      " [17 16 15 14 13 12]\n",
      " [11 10  9  8  7  6]\n",
      " [ 5  4  3  2  1  0]]\n",
      "[[18 12  6  0]\n",
      " [19 13  7  1]\n",
      " [20 14  8  2]\n",
      " [21 15  9  3]\n",
      " [22 16 10  4]\n",
      " [23 17 11  5]]\n",
      "[[18 12  6  0]\n",
      " [19 13  7  1]\n",
      " [20 14  8  2]\n",
      " [21 15  9  3]\n",
      " [22 16 10  4]\n",
      " [23 17 11  5]]\n",
      "[[23 22 21 20 19 18]\n",
      " [17 16 15 14 13 12]\n",
      " [11 10  9  8  7  6]\n",
      " [ 5  4  3  2  1  0]]\n",
      "[[ 5 11 17 23]\n",
      " [ 4 10 16 22]\n",
      " [ 3  9 15 21]\n",
      " [ 2  8 14 20]\n",
      " [ 1  7 13 19]\n",
      " [ 0  6 12 18]]\n"
     ]
    }
   ],
   "source": [
    "A = np.arange(0,24).reshape(4,6)\n",
    "\n",
    "def rota90(mat):\n",
    "    print(np.rot90(mat))\n",
    "rota90(A)\n",
    "\n",
    "def rota180(mat):\n",
    "    print(np.rot90(mat,2))\n",
    "rota180(A)\n",
    "\n",
    "def rota270(mat):\n",
    "    print(np.rot90(mat,3))\n",
    "rota270(A)\n",
    "\n",
    "# OTRO LADO\n",
    "\n",
    "\n",
    "def rota90_otro_lado(mat):\n",
    "    print(np.rot90(mat,1,(1,0)))\n",
    "rota90_(A)\n",
    "\n",
    "def rota180_otro_lado(mat):\n",
    "    print(np.rot90(mat,2,(1,0)))\n",
    "rota180_(A)\n",
    "\n",
    "def rota270_otro_lado(mat):\n",
    "    print(np.rot90(mat,3,(1,0)))\n",
    "rota270_(A)\n"
   ]
  },
  {
   "cell_type": "code",
   "execution_count": null,
   "metadata": {},
   "outputs": [],
   "source": [
    "#PROBLEMA 4"
   ]
  },
  {
   "cell_type": "code",
   "execution_count": 11,
   "metadata": {},
   "outputs": [
    {
     "name": "stdout",
     "output_type": "stream",
     "text": [
      "Soluciones: \n",
      "[['x' '1.0000000000000004']\n",
      " ['a' '2.0']\n",
      " ['y' '1.0000000000000002']\n",
      " ['b' '1.0000000000000007']\n",
      " ['z' '2.0000000000000004']\n",
      " ['c' '2.0000000000000013']\n",
      " ['t' '-2.000000000000001']\n",
      " ['d' '1.0000000000000004']]\n"
     ]
    }
   ],
   "source": [
    "x = np.array([\n",
    "#    x  a  y  b  z  c  t  d\n",
    "    [2, 1, 0, 0, 0, 0, 0, 0],\n",
    "    [1, 1, 0, 0, 0, 0, 0, 0],\n",
    "    [-1, 2, 0, 0, 0, 0, 0, 0],\n",
    "    [0, 0, 2, 1, 0, 0, 0, 0],\n",
    "    [0, 0, 1, 1, 0, 0, 0, 0],\n",
    "    [0, 0, -1, 2, 0, 0, 0, 0],\n",
    "    [0, 0, 0, 0, 2, 1, 0, 0],\n",
    "    [0, 0, 0, 0, 1, 1, 0, 0],\n",
    "    [0, 0, 0, 0, -1, 2, 0, 0],\n",
    "    [0, 0, 0, 0, 0, 0, 2, 1],\n",
    "    [0, 0, 0, 0, 0, 0, 1, 1],\n",
    "    [0, 0, 0, 0, 0, 0, -1, 2]\n",
    "])\n",
    "\n",
    "y = np.array([4, 3, 3, 3, 2, 1, 6, 4, 2, -3, -1, 4]).reshape(12, 1) \n",
    "\n",
    "res = np.hstack((\n",
    "    np.array([\n",
    "        ['x'],\n",
    "        ['a'],\n",
    "        ['y'],\n",
    "        ['b'],\n",
    "        ['z'],\n",
    "        ['c'],\n",
    "        ['t'],\n",
    "        ['d']\n",
    "    ]),\n",
    "    (np.linalg.lstsq(x, y, rcond=None)[0])\n",
    "))\n",
    "\n",
    "print(f'Soluciones: \\n{res}')"
   ]
  }
 ],
 "metadata": {
  "kernelspec": {
   "display_name": "Python 3",
   "language": "python",
   "name": "python3"
  },
  "language_info": {
   "codemirror_mode": {
    "name": "ipython",
    "version": 3
   },
   "file_extension": ".py",
   "mimetype": "text/x-python",
   "name": "python",
   "nbconvert_exporter": "python",
   "pygments_lexer": "ipython3",
   "version": "3.8.3"
  }
 },
 "nbformat": 4,
 "nbformat_minor": 4
}
