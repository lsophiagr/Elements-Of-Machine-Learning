{
 "cells": [
  {
   "cell_type": "markdown",
   "metadata": {},
   "source": [
    "# Laboratorio No. 3"
   ]
  },
  {
   "cell_type": "markdown",
   "metadata": {},
   "source": [
    "# Instrucciones: Realice un programa en Python para resolver el siguiente problema.\n",
    "Problema 1:\n",
    "Anualmente en Estados Unidos, cerca de 1.5 millones de estudiantes de Educación Superior realizan un examen de aptitud escolar (SAT, por sus siglas en inglés). Aproximadamente el 80% de las universidades e instituciones de Educación Superior usan las calificaciones obtenidas por los estudiantes en este examen como criterio de admisión (College Board, marzo de 2006).\n",
    "Un servicio de evaluaciones educativas ha recolectado la información del examen del SAT y la información del GPA de una muestra de 1000 estudiantes de una universidad (no se indica el nombre por temas de confidencialidad). El SAT consiste en múltiples secciones medibles, las cuales incluye: Matemática, lectura y escritura. Se prueba lectura y escritura juntas y Matemática se evalúa en una escala del 200 al 800. Una calificación perfecta es 1600 (800 en ambas secciones). En el caso de GPA es un término que se emplea para asignar un valor numérico a las puntuaciones acumuladas por un estudiante en el sistema estadounidense. Este valor puede ser anual o agruparse en períodos académicos y se calcula en una escala de 0 a 4 puntos (en algunos casos puede ser hasta 5).\n",
    "Se tiene el siguiente juego de datos del archivo satgpa.csv, el cual tiene la siguiente información:\n",
    "Variables:\n",
    "• sex - sexo del estudiante (1=Mujer y 2=Hombre)\n",
    "• sat_v - percentil SAT verbal\n",
    "• sat_m - percentil SAT en Matemática\n",
    "• sat_sum - total del percentil del SAT verbal y Matemática\n",
    "   \n",
    "• hs_gpa - promedio de calificaciones de la escuela secundaria\n",
    "• fy_gpa - promedio de calificaciones del primer año de la universidad\n",
    "\n",
    "\n",
    "Se tiene interés en determinar si el “sexo”, el “total del percentil de SAT verbal y Matemática” y el “promedio de calificaciones de la escuela secundaria” predicen en forma lineal el “promedio de calificaciones de primer año de la universidad”. Utilice el método del descenso del gradiente para encontrar los parámetros correspondientes (thetas). Estas características podrían utilizarse en un futuro para calificar a las personas para su ingreso a esta universidad.\n"
   ]
  },
  {
   "cell_type": "code",
   "execution_count": 52,
   "metadata": {},
   "outputs": [],
   "source": [
    "# importar librerías\n",
    "import pandas as pd\n",
    "import numpy as np\n",
    "import matplotlib.pyplot as plt\n",
    "df = pd.read_csv('satgpa.csv')\n"
   ]
  },
  {
   "cell_type": "code",
   "execution_count": 53,
   "metadata": {},
   "outputs": [
    {
     "data": {
      "text/html": [
       "<div>\n",
       "<style scoped>\n",
       "    .dataframe tbody tr th:only-of-type {\n",
       "        vertical-align: middle;\n",
       "    }\n",
       "\n",
       "    .dataframe tbody tr th {\n",
       "        vertical-align: top;\n",
       "    }\n",
       "\n",
       "    .dataframe thead th {\n",
       "        text-align: right;\n",
       "    }\n",
       "</style>\n",
       "<table border=\"1\" class=\"dataframe\">\n",
       "  <thead>\n",
       "    <tr style=\"text-align: right;\">\n",
       "      <th></th>\n",
       "      <th>sex</th>\n",
       "      <th>sat_v</th>\n",
       "      <th>sat_m</th>\n",
       "      <th>sat_sum</th>\n",
       "      <th>hs_gpa</th>\n",
       "      <th>fy_gpa</th>\n",
       "    </tr>\n",
       "  </thead>\n",
       "  <tbody>\n",
       "    <tr>\n",
       "      <th>0</th>\n",
       "      <td>1</td>\n",
       "      <td>65</td>\n",
       "      <td>62</td>\n",
       "      <td>127</td>\n",
       "      <td>3.40</td>\n",
       "      <td>3.18</td>\n",
       "    </tr>\n",
       "    <tr>\n",
       "      <th>1</th>\n",
       "      <td>2</td>\n",
       "      <td>58</td>\n",
       "      <td>64</td>\n",
       "      <td>122</td>\n",
       "      <td>4.00</td>\n",
       "      <td>3.33</td>\n",
       "    </tr>\n",
       "    <tr>\n",
       "      <th>2</th>\n",
       "      <td>2</td>\n",
       "      <td>56</td>\n",
       "      <td>60</td>\n",
       "      <td>116</td>\n",
       "      <td>3.75</td>\n",
       "      <td>3.25</td>\n",
       "    </tr>\n",
       "  </tbody>\n",
       "</table>\n",
       "</div>"
      ],
      "text/plain": [
       "   sex  sat_v  sat_m  sat_sum  hs_gpa  fy_gpa\n",
       "0    1     65     62      127    3.40    3.18\n",
       "1    2     58     64      122    4.00    3.33\n",
       "2    2     56     60      116    3.75    3.25"
      ]
     },
     "execution_count": 53,
     "metadata": {},
     "output_type": "execute_result"
    }
   ],
   "source": [
    "df.head(3)\n"
   ]
  },
  {
   "cell_type": "markdown",
   "metadata": {},
   "source": [
    "# Ecuaciones vistas en clase"
   ]
  },
  {
   "cell_type": "code",
   "execution_count": 37,
   "metadata": {},
   "outputs": [],
   "source": [
    "# linear cost\n",
    "def linear_cost(X, y, theta):\n",
    "    h = X @ theta\n",
    "    return ((h - y) ** 2).sum() / (2*len(X))\n"
   ]
  },
  {
   "cell_type": "code",
   "execution_count": 38,
   "metadata": {},
   "outputs": [],
   "source": [
    "#linear cost gradient\n",
    "def linear_cost_gradient(X, y, theta):\n",
    "    h = X @ theta\n",
    "    return ((h - y).T @ X).T / (2*len(X))"
   ]
  },
  {
   "cell_type": "code",
   "execution_count": 39,
   "metadata": {},
   "outputs": [],
   "source": [
    "#gradient descent\n",
    "def gradient_descent(\n",
    "    X, y, theta_0, \n",
    "    cost_function, cost_function_gradient,\n",
    "    learning_rate=0.01, \n",
    "    threshold=0.001,\n",
    "    max_iter=1000\n",
    "):\n",
    "    theta = theta_0\n",
    "    iteration = 0\n",
    "    costs = []\n",
    "    while np.linalg.norm(cost_function_gradient(X, y, theta)) > threshold and iteration < max_iter:\n",
    "        iteration += 1\n",
    "        theta -= learning_rate * cost_function_gradient(X, y, theta)\n",
    "        costs.append(cost_function(X, y, theta))\n",
    "\n",
    "    return theta, costs"
   ]
  },
  {
   "cell_type": "code",
   "execution_count": 40,
   "metadata": {},
   "outputs": [],
   "source": [
    "df['sex'] = df['sex'].replace(2,0)"
   ]
  },
  {
   "cell_type": "code",
   "execution_count": 42,
   "metadata": {},
   "outputs": [],
   "source": [
    "x = df.copy()\n",
    "y = np.array(df['fy_gpa']).reshape(len(x), 1)"
   ]
  },
  {
   "cell_type": "code",
   "execution_count": 43,
   "metadata": {},
   "outputs": [],
   "source": [
    "x.drop(columns=['sat_v','sat_m','fy_gpa' ], inplace=True)\n",
    "\n",
    "X = np.hstack((\n",
    "    np.ones(1000).reshape(1000, 1),\n",
    "    x\n",
    "))\n"
   ]
  },
  {
   "cell_type": "code",
   "execution_count": 54,
   "metadata": {},
   "outputs": [],
   "source": [
    "m, n = X.shape\n",
    "theta_0 = np.random.rand(n, 1)"
   ]
  },
  {
   "cell_type": "code",
   "execution_count": 55,
   "metadata": {},
   "outputs": [
    {
     "data": {
      "text/plain": [
       "array([[0.07574147],\n",
       "       [0.70633355],\n",
       "       [0.01491715],\n",
       "       [0.2107555 ]])"
      ]
     },
     "execution_count": 55,
     "metadata": {},
     "output_type": "execute_result"
    }
   ],
   "source": [
    "r_theta, costs = gradient_descent(\n",
    "    X, y, theta_0,\n",
    "    linear_cost,\n",
    "    linear_cost_gradient,\n",
    "    learning_rate=0.00001,\n",
    "    threshold=10\n",
    ")\n",
    "r_theta\n"
   ]
  },
  {
   "cell_type": "code",
   "execution_count": 56,
   "metadata": {},
   "outputs": [
    {
     "data": {
      "image/png": "[encoded data removed]",
      "text/plain": [
       "<Figure size 432x288 with 1 Axes>"
      ]
     },
     "metadata": {},
     "output_type": "display_data"
    }
   ],
   "source": [
    "with plt.style.context('fivethirtyeight'):\n",
    "    plt.plot(costs)\n"
   ]
  },
  {
   "cell_type": "code",
   "execution_count": null,
   "metadata": {},
   "outputs": [],
   "source": []
  }
 ],
 "metadata": {
  "kernelspec": {
   "display_name": "Python 3",
   "language": "python",
   "name": "python3"
  },
  "language_info": {
   "codemirror_mode": {
    "name": "ipython",
    "version": 3
   },
   "file_extension": ".py",
   "mimetype": "text/x-python",
   "name": "python",
   "nbconvert_exporter": "python",
   "pygments_lexer": "ipython3",
   "version": "3.8.3"
  }
 },
 "nbformat": 4,
 "nbformat_minor": 4
}
